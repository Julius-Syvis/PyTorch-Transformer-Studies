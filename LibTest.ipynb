{
 "cells": [
  {
   "cell_type": "code",
   "execution_count": 1,
   "metadata": {},
   "outputs": [],
   "source": [
    "import math, time\n",
    "from datetime import datetime\n",
    "import torch\n",
    "import torch.nn as nn\n",
    "import torch.nn.functional as F\n",
    "from torch.autograd import Variable\n",
    "import torchtext, spacy\n",
    "from torchtext.data import Field, BucketIterator\n",
    "from torchtext.data.metrics import bleu_score\n",
    "from torch import optim\n",
    "\n",
    "%load_ext autoreload\n",
    "%autoreload 2"
   ]
  },
  {
   "cell_type": "code",
   "execution_count": 2,
   "metadata": {},
   "outputs": [],
   "source": [
    "from lib.transformers import *\n",
    "from lib.training import *\n",
    "from lib.evaluation import *\n",
    "from lib.datasets import *"
   ]
  },
  {
   "cell_type": "code",
   "execution_count": 3,
   "metadata": {},
   "outputs": [],
   "source": [
    "bs = 64\n",
    "field_src, field_trg, src_vocab, trg_vocab, src_pad_idx, trg_pad_idx, sp_src, sp_trg, device, data, iterators = get_multi30k(bs)"
   ]
  },
  {
   "cell_type": "markdown",
   "metadata": {},
   "source": [
    "Trainer"
   ]
  },
  {
   "cell_type": "code",
   "execution_count": 4,
   "metadata": {},
   "outputs": [],
   "source": [
    "model, optimizer, criterion = build_transformer(src_vocab, trg_vocab, src_pad_idx, trg_pad_idx, device)\n",
    "trainer = Trainer(model, iterators, criterion, optimizer, device)"
   ]
  },
  {
   "cell_type": "code",
   "execution_count": 5,
   "metadata": {},
   "outputs": [],
   "source": [
    "from torch.utils.tensorboard import SummaryWriter\n",
    "\n",
    "writer = SummaryWriter(f'.tf_runs/LibTest')\n",
    "writer.close()"
   ]
  },
  {
   "cell_type": "code",
   "execution_count": 6,
   "metadata": {},
   "outputs": [],
   "source": [
    "eps = 10"
   ]
  },
  {
   "cell_type": "code",
   "execution_count": 7,
   "metadata": {},
   "outputs": [],
   "source": [
    "trainer.train_log(eps, writer, f'{datetime.now().strftime(\"%Y-%m-%d %H-%M\")}', \"T-\")"
   ]
  },
  {
   "cell_type": "markdown",
   "metadata": {},
   "source": [
    "VerboseTrainer"
   ]
  },
  {
   "cell_type": "code",
   "execution_count": 8,
   "metadata": {},
   "outputs": [],
   "source": [
    "model, optimizer, criterion = build_transformer(src_vocab, trg_vocab, src_pad_idx, trg_pad_idx, device)\n",
    "trainer = VerboseTrainer(model, iterators, criterion, optimizer, device)"
   ]
  },
  {
   "cell_type": "code",
   "execution_count": 9,
   "metadata": {},
   "outputs": [],
   "source": [
    "eps = 10"
   ]
  },
  {
   "cell_type": "code",
   "execution_count": 10,
   "metadata": {
    "scrolled": true
   },
   "outputs": [
    {
     "name": "stdout",
     "output_type": "stream",
     "text": [
      "\n",
      "Epoch 0: | Time: 1m 23s\n",
      "Train loss: 6.0353017630556085\n",
      "Valid loss: 4.218024522066116\n",
      "\n",
      "Epoch 1: | Time: 1m 22s\n",
      "Train loss: 3.8261806203405238\n",
      "Valid loss: 3.2277660071849823\n",
      "\n",
      "Epoch 2: | Time: 1m 22s\n",
      "Train loss: 3.093068240497606\n",
      "Valid loss: 2.6603732109069824\n",
      "\n",
      "Epoch 3: | Time: 1m 23s\n",
      "Train loss: 2.565169703592813\n",
      "Valid loss: 2.282218113541603\n",
      "\n",
      "Epoch 4: | Time: 1m 23s\n",
      "Train loss: 2.169322951249614\n",
      "Valid loss: 1.97156273573637\n",
      "\n",
      "Epoch 5: | Time: 1m 26s\n",
      "Train loss: 1.9188138173015108\n",
      "Valid loss: 1.7927093803882599\n",
      "\n",
      "Epoch 6: | Time: 1m 22s\n",
      "Train loss: 1.7767694797284803\n",
      "Valid loss: 1.7358791306614876\n",
      "\n",
      "Epoch 7: | Time: 1m 23s\n",
      "Train loss: 1.6956382081372097\n",
      "Valid loss: 1.7434918284416199\n",
      "\n",
      "Epoch 8: | Time: 1m 23s\n",
      "Train loss: 1.671780839102909\n",
      "Valid loss: 1.6617712453007698\n",
      "\n",
      "Epoch 9: | Time: 1m 22s\n",
      "Train loss: 1.6172071298838713\n",
      "Valid loss: 1.6636941581964493\n",
      "\n",
      "Total Time: 13m 54s\n",
      "Final test loss: 1.6861108019948006\n"
     ]
    }
   ],
   "source": [
    "trainer.train(eps, 1)"
   ]
  },
  {
   "cell_type": "markdown",
   "metadata": {},
   "source": [
    "Evaluate Trainer"
   ]
  },
  {
   "cell_type": "code",
   "execution_count": 11,
   "metadata": {},
   "outputs": [
    {
     "name": "stdout",
     "output_type": "stream",
     "text": [
      "['drei', 'köche', 'spielen', 'fußball', 'fußball', 'fußball', 'fußball', 'fußball', 'fußball', 'fußball', 'fußball', 'fußball', 'fußball', 'fußball', 'fußball', 'fußball', 'fußball', 'fußball', 'fußball', 'fußball']\n"
     ]
    }
   ],
   "source": [
    "translator = Translator(model, sp_src, field_src, field_trg, device)\n",
    "translation = translator.translate(\"Three brothers are playing football\")\n",
    "print(translation)"
   ]
  },
  {
   "cell_type": "code",
   "execution_count": 12,
   "metadata": {
    "scrolled": true
   },
   "outputs": [
    {
     "name": "stdout",
     "output_type": "stream",
     "text": [
      "22.996988892555237\n"
     ]
    }
   ],
   "source": [
    "bleu = translator.calculate_bleu(data[2])\n",
    "print(bleu)"
   ]
  },
  {
   "cell_type": "markdown",
   "metadata": {},
   "source": [
    "TranslatingTrainer"
   ]
  },
  {
   "cell_type": "code",
   "execution_count": 13,
   "metadata": {},
   "outputs": [],
   "source": [
    "model, optimizer, criterion = build_transformer(src_vocab, trg_vocab, src_pad_idx, trg_pad_idx, device)\n",
    "translator = Translator(model, sp_src, field_src, field_trg, device)\n",
    "trainer = TranslatingTrainer(model, iterators, criterion, optimizer, translator, device)"
   ]
  },
  {
   "cell_type": "code",
   "execution_count": 14,
   "metadata": {},
   "outputs": [
    {
     "name": "stdout",
     "output_type": "stream",
     "text": [
      "\n",
      "Epoch 0: | Time: 1m 33s\n",
      "Train loss: 6.037329666414975\n",
      "Valid loss: 4.17379991710186\n",
      "['zwei', 'männer', 'in', 'einem', '<unk>', '.', '<eos>']\n",
      "\n",
      "Epoch 1: | Time: 1m 29s\n",
      "Train loss: 3.81827574206869\n",
      "Valid loss: 3.254710853099823\n",
      "['drei', 'hunde', 'spielen', 'im', 'freien', '.', '<eos>']\n",
      "\n",
      "Epoch 2: | Time: 1m 31s\n",
      "Train loss: 3.139283850854714\n",
      "Valid loss: 2.694185122847557\n",
      "['drei', 'jungen', 'spielen', 'drei', 'jungen', '.', '<eos>']\n",
      "\n",
      "Epoch 3: | Time: 1m 32s\n",
      "Train loss: 2.6144469530046774\n",
      "Valid loss: 2.283024236559868\n",
      "['drei', '<unk>', 'spielen', 'fußball', 'fußball', '.', '<eos>']\n",
      "\n",
      "Epoch 4: | Time: 1m 36s\n",
      "Train loss: 2.1994088410280876\n",
      "Valid loss: 1.9997878074645996\n",
      "['drei', '<unk>', 'spielen', 'fußball', 'fußball', ',', 'die', 'fußball', 'spielen', '.', '<eos>']\n",
      "\n",
      "Epoch 5: | Time: 1m 36s\n",
      "Train loss: 1.9343254928546856\n",
      "Valid loss: 1.85004024207592\n",
      "['drei', 'ringer', 'spielen', 'fußball', ',', 'während', 'eines', 'fußballspieler', 'bei', 'dem', 'fußball', 'spielen', '.', '<eos>']\n",
      "\n",
      "Epoch 6: | Time: 1m 30s\n",
      "Train loss: 1.7799442799080836\n",
      "Valid loss: 1.768664687871933\n",
      "['drei', '<unk>', 'spielen', 'football', 'football', 'football', 'football', 'football', 'football', 'football', '.', '<eos>']\n",
      "\n",
      "Epoch 7: | Time: 1m 29s\n",
      "Train loss: 1.696174480578973\n",
      "Valid loss: 1.6992519870400429\n",
      "['drei', 'kajakfahrer', 'spielen', 'football', 'football', 'football', 'football', 'football', '.', '<eos>']\n",
      "\n",
      "Epoch 8: | Time: 1m 30s\n",
      "Train loss: 1.6664754283585737\n",
      "Valid loss: 1.684781439602375\n",
      "['drei', '<unk>', 'spielen', 'football', ',', 'drei', 'football', 'spielen', '.', '<eos>']\n",
      "\n",
      "Epoch 9: | Time: 1m 28s\n",
      "Train loss: 1.603775681115457\n",
      "Valid loss: 1.6144917011260986\n",
      "['drei', 'kajakfahrer', 'spielen', 'football', 'fußball', 'und', 'spielen', 'den', 'football', '.', '<eos>']\n",
      "\n",
      "Epoch 10: | Time: 1m 22s\n",
      "Train loss: 1.5207269186490433\n",
      "Valid loss: 1.6450646072626114\n",
      "['drei', 'chirurgen', 'spielen', 'football', 'football', 'football', 'football', 'football', 'football', 'football', 'football', '.', '<eos>']\n",
      "\n",
      "Epoch 11: | Time: 1m 20s\n",
      "Train loss: 1.4391635091819428\n",
      "Valid loss: 1.544962964951992\n",
      "['drei', 'segelboote', 'spielen', 'football', '.', '<eos>']\n",
      "\n",
      "Epoch 12: | Time: 1m 24s\n",
      "Train loss: 1.358447353220196\n",
      "Valid loss: 1.477102406322956\n",
      "['drei', '<unk>', 'spielen', 'football', 'football', 'football', '.', 'drei', 'schüler', 'spielen', 'football', 'football', 'football', 'football', '.', '<eos>']\n",
      "\n",
      "Epoch 13: | Time: 1m 21s\n",
      "Train loss: 1.2809442200324608\n",
      "Valid loss: 1.4925240650773048\n",
      "['drei', 'chirurgen', 'spielen', 'football', 'football', 'football', 'football', 'football', 'football', 'football', 'football', 'football', 'football', 'football', 'football', 'football', 'football', 'football', 'football', 'football']\n",
      "\n",
      "Epoch 14: | Time: 1m 23s\n",
      "Train loss: 1.2220981555625732\n",
      "Valid loss: 1.4860398545861244\n",
      "['drei', 'dunkelhaarige', 'schüler', 'spielen', 'football', 'football', 'football', '.', '<eos>']\n",
      "\n",
      "Epoch 15: | Time: 1m 22s\n",
      "Train loss: 1.1609355645820434\n",
      "Valid loss: 1.4644689932465553\n",
      "['drei', 'sportler', 'spielen', 'football', 'football', 'football', 'football', 'football', 'football', 'football', 'football', 'football', 'football', 'football', 'football', 'football', 'football', 'football', 'football', 'football']\n",
      "\n",
      "Epoch 16: | Time: 1m 24s\n",
      "Train loss: 1.0960785627102536\n",
      "Valid loss: 1.4674052000045776\n",
      "['drei', 'mönche', 'spielen', 'football', 'football', 'football', 'football', 'football', 'football', '.', '<eos>']\n",
      "\n",
      "Epoch 17: | Time: 1m 22s\n",
      "Train loss: 1.0481002594668434\n",
      "Valid loss: 1.485005035996437\n",
      "['drei', 'motocross-fahrer', 'spielen', 'football', ',', 'die', 'football', 'spielen', '.', '<eos>']\n",
      "\n",
      "Epoch 18: | Time: 1m 21s\n",
      "Train loss: 1.0057906402102652\n",
      "Valid loss: 1.465163715183735\n",
      "['drei', 'angestellte', 'spielen', 'football', ',', 'spielen', 'football', 'und', 'spielen', 'football', '.', '<eos>']\n",
      "\n",
      "Total Time: 27m 42s\n",
      "Final test loss: 1.5252329781651497\n",
      "['drei', 'angestellte', 'spielen', 'football', ',', 'spielen', 'football', 'und', 'spielen', 'football', '.', '<eos>']\n"
     ]
    }
   ],
   "source": [
    "trainer.train()"
   ]
  },
  {
   "cell_type": "code",
   "execution_count": 15,
   "metadata": {},
   "outputs": [
    {
     "data": {
      "image/png": "[encoded data removed]",
      "text/plain": [
       "<Figure size 432x288 with 1 Axes>"
      ]
     },
     "metadata": {
      "needs_background": "light"
     },
     "output_type": "display_data"
    }
   ],
   "source": [
    "trainer.plot_loss()"
   ]
  }
 ],
 "metadata": {
  "kernelspec": {
   "display_name": "Python 3",
   "language": "python",
   "name": "python3"
  },
  "language_info": {
   "codemirror_mode": {
    "name": "ipython",
    "version": 3
   },
   "file_extension": ".py",
   "mimetype": "text/x-python",
   "name": "python",
   "nbconvert_exporter": "python",
   "pygments_lexer": "ipython3",
   "version": "3.9.1"
  }
 },
 "nbformat": 4,
 "nbformat_minor": 4
}
