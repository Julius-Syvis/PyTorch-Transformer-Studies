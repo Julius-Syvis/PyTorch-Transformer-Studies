{
 "cells": [
  {
   "cell_type": "markdown",
   "metadata": {},
   "source": [
    "### Paper 1\n",
    "#### [Training Tips for the Transformer Model](https://arxiv.org/abs/1804.00247)\n",
    "\n",
    "**Goals:**\n",
    " 1. Learn how to improve Transformer importance without moving to another architecture\n",
    " 2. Learn why certain techniques work well during training\n",
    " \n",
    "*I will not be focusing on multi-GPU scaling.* Instead, this exercise is mostly for building a personal Transformer training framework."
   ]
  },
  {
   "cell_type": "markdown",
   "metadata": {},
   "source": [
    "### 1. Stopping Criterion\n",
    "\n",
    "Takeaways:\n",
    " 1. Stop training if after N evaluations, the improvement is smaller than delta\n",
    " 2. Full learning curve visualizations help in assessing the general model training direction"
   ]
  },
  {
   "cell_type": "markdown",
   "metadata": {},
   "source": [
    "#### 1.1 A stopping trainer\n",
    "As noted in the paper, might lead to some premature judgements without a full learning curve"
   ]
  },
  {
   "cell_type": "code",
   "execution_count": 1,
   "metadata": {},
   "outputs": [],
   "source": [
    "import time\n",
    "import torch\n",
    "\n",
    "# Reused from Paper 0\n",
    "# With a halting condition added\n",
    "\n",
    "class Trainer:\n",
    "\n",
    "    def __init__(self, model, iterators, criterion, optimizer, device):\n",
    "\n",
    "        train_iterator, valid_iterator, test_iterator = iterators\n",
    "\n",
    "        self.train_iterator = train_iterator\n",
    "        self.valid_iterator = valid_iterator\n",
    "        self.test_iterator = test_iterator\n",
    "        self.model = model\n",
    "        self.criterion = criterion\n",
    "        self.optimizer = optimizer\n",
    "        self.device = device\n",
    "\n",
    "    def train(self, eps=100, print_every=1, halting_N=4, halting_delta=1e-3, **kwargs):\n",
    "\n",
    "        ts = []\n",
    "        train_losses = []\n",
    "        valid_losses = []\n",
    "        stored = 0\n",
    "\n",
    "        for e in range(eps):\n",
    "                \n",
    "            t, train_loss, valid_loss = self.train_evaluate_epoch()\n",
    "            ts.append(t)\n",
    "            train_losses.append(train_loss)\n",
    "            valid_losses.append(valid_loss)\n",
    "            stored += 1\n",
    "\n",
    "            if stored == print_every or e + 1 == eps:\n",
    "                self._print_sequence(ts[e - stored + 1:e + 1],\n",
    "                                     train_losses[e - stored + 1:e + 1],\n",
    "                                     valid_losses[e - stored + 1:e + 1],\n",
    "                                     e - stored + 1, **kwargs)\n",
    "                stored = 0\n",
    "                \n",
    "            # After computing, test halt condition\n",
    "            if self.need_halt(valid_losses, halting_N, halting_delta):\n",
    "                break\n",
    "\n",
    "        test_loss = self.evaluate(self.test_iterator)\n",
    "        self._print_last(ts, train_losses, valid_losses, test_loss, eps, **kwargs)\n",
    "        \n",
    "    def need_halt(self, valid_losses, halting_N, halting_delta):\n",
    "        if len(valid_losses) >= halting_N:\n",
    "            return valid_losses[-halting_N] - valid_losses[-1] < halting_delta\n",
    "        else:\n",
    "            return False\n",
    "\n",
    "    def _print_sequence(self, ts, train_losses, valid_losses, epoch, **kwargs):\n",
    "\n",
    "        sequence_time = sum(ts)\n",
    "        minutes = int(sequence_time / 60)\n",
    "        seconds = int(sequence_time % 60)\n",
    "\n",
    "        if len(ts) > 1:\n",
    "            epoch_string = f\"Epochs {epoch}-{epoch + len(ts) - 1}\"\n",
    "        else:\n",
    "            epoch_string = f\"Epoch {epoch}\"\n",
    "\n",
    "        print(f'\\n{epoch_string}: | Time: {minutes}m {seconds}s')\n",
    "        print(f'Train loss: {train_losses[-1]}')\n",
    "        print(f'Valid loss: {valid_losses[-1]}')\n",
    "\n",
    "    def _print_last(self, ts, train_losses, valid_losses, test_loss, epoch, **kwargs):\n",
    "\n",
    "        total_time = sum(ts)\n",
    "        minutes = int(total_time / 60)\n",
    "        seconds = int(total_time % 60)\n",
    "\n",
    "        print(f'\\nTotal Time: {minutes}m {seconds}s')\n",
    "        print(f'Final test loss: {test_loss}')\n",
    "\n",
    "    def train_evaluate_epoch(self):\n",
    "        t1 = time.time()\n",
    "        train_loss = self.train_epoch()\n",
    "        valid_loss = self.evaluate(self.valid_iterator)\n",
    "        t2 = time.time()\n",
    "        t = t2 - t1\n",
    "        return t, train_loss, valid_loss\n",
    "\n",
    "    def train_epoch(self):\n",
    "        self.model.train()\n",
    "        total_loss = 0\n",
    "\n",
    "        for i, batch in enumerate(self.train_iterator):\n",
    "            self.optimizer.zero_grad()\n",
    "            src, trg, out = self.forward(batch)\n",
    "            loss = self.criterion(out, trg)\n",
    "            loss.backward()\n",
    "            self.optimizer.step()\n",
    "\n",
    "            total_loss += loss.item()\n",
    "\n",
    "        mean_loss = total_loss / len(self.train_iterator)\n",
    "        return mean_loss\n",
    "\n",
    "    def evaluate(self, iterator):\n",
    "        self.model.eval()\n",
    "        total_loss = 0\n",
    "\n",
    "        with torch.no_grad():\n",
    "            for i, batch in enumerate(iterator):\n",
    "                src, trg, out = self.forward(batch)\n",
    "                loss = self.criterion(out, trg)\n",
    "                total_loss += loss.item()\n",
    "\n",
    "        mean_loss = total_loss / len(iterator)\n",
    "        return mean_loss\n",
    "\n",
    "    def forward(self, batch, verbose=False):\n",
    "        src = batch.src.to(self.device)  # [S, N]\n",
    "        trg = batch.trg.to(self.device)  # [T + 1, N]\n",
    "\n",
    "        if verbose:\n",
    "            print(f'Data received from iterator: src=[{src.shape}]; trg=[{trg.shape}]')\n",
    "\n",
    "        # Key moment: the -1 index omits the <eos> token\n",
    "        # This is done because the decoder should never receive <eos> as input\n",
    "        out = self.model(src, trg[:-1, :])  # [T, N, V]\n",
    "\n",
    "        if verbose:\n",
    "            print(f'Data received from model: out=[{out.shape}]')\n",
    "\n",
    "        # Key moment: we cut off <sos> token from trg, because the model never learns to output it\n",
    "        # This aligns the out and trg tokens for successful loss calculation\n",
    "        out = out.reshape(-1, out.shape[2])  # [T * N, V]\n",
    "        trg = trg[1:].reshape(-1)  # [T * N]\n",
    "\n",
    "        if verbose:\n",
    "            print(f'Data reshaped for loss computation: out=[{out.shape}]; trg=[{trg.shape}]')\n",
    "\n",
    "        return src, trg, out"
   ]
  },
  {
   "cell_type": "markdown",
   "metadata": {},
   "source": [
    "Test stopping trainer"
   ]
  },
  {
   "cell_type": "code",
   "execution_count": 2,
   "metadata": {},
   "outputs": [],
   "source": [
    "from lib.transformers import *\n",
    "from lib.datasets import *\n",
    "from lib.evaluation import *"
   ]
  },
  {
   "cell_type": "code",
   "execution_count": 3,
   "metadata": {},
   "outputs": [],
   "source": [
    "bs = 64\n",
    "field_src, field_trg, src_vocab, trg_vocab, src_pad_idx, trg_pad_idx, sp_src, sp_trg, device, data, iterators = get_multi30k(bs)"
   ]
  },
  {
   "cell_type": "code",
   "execution_count": 4,
   "metadata": {},
   "outputs": [],
   "source": [
    "model, optimizer, criterion = build_transformer(src_vocab, trg_vocab, src_pad_idx, trg_pad_idx, device)\n",
    "trainer = Trainer(model, iterators, criterion, optimizer, device)"
   ]
  },
  {
   "cell_type": "code",
   "execution_count": 5,
   "metadata": {},
   "outputs": [
    {
     "name": "stdout",
     "output_type": "stream",
     "text": [
      "\n",
      "Epoch 0: | Time: 1m 23s\n",
      "Train loss: 6.016833213982603\n",
      "Valid loss: 4.227247446775436\n",
      "\n",
      "Epoch 1: | Time: 1m 21s\n",
      "Train loss: 3.8371033621254473\n",
      "Valid loss: 3.2015329152345657\n",
      "\n",
      "Epoch 2: | Time: 1m 23s\n",
      "Train loss: 3.0783009235029177\n",
      "Valid loss: 2.6100951731204987\n",
      "\n",
      "Epoch 3: | Time: 1m 24s\n",
      "Train loss: 2.5415478577172705\n",
      "Valid loss: 2.1989232674241066\n",
      "\n",
      "Epoch 4: | Time: 1m 23s\n",
      "Train loss: 2.1482001724222157\n",
      "Valid loss: 1.900183066725731\n",
      "\n",
      "Epoch 5: | Time: 1m 23s\n",
      "Train loss: 1.9047001823454701\n",
      "Valid loss: 1.7605540826916695\n",
      "\n",
      "Epoch 6: | Time: 1m 24s\n",
      "Train loss: 1.7612118912688437\n",
      "Valid loss: 1.7187179177999496\n",
      "\n",
      "Epoch 7: | Time: 1m 23s\n",
      "Train loss: 1.6832277126249238\n",
      "Valid loss: 1.7390082478523254\n",
      "\n",
      "Epoch 8: | Time: 1m 23s\n",
      "Train loss: 1.6616558700406079\n",
      "Valid loss: 1.7125082314014435\n",
      "\n",
      "Epoch 9: | Time: 1m 23s\n",
      "Train loss: 1.602507315280679\n",
      "Valid loss: 1.6506192088127136\n",
      "\n",
      "Epoch 10: | Time: 1m 23s\n",
      "Train loss: 1.5196560243152837\n",
      "Valid loss: 1.5528361648321152\n",
      "\n",
      "Epoch 11: | Time: 1m 24s\n",
      "Train loss: 1.4246636468933542\n",
      "Valid loss: 1.5155993849039078\n",
      "\n",
      "Epoch 12: | Time: 1m 23s\n",
      "Train loss: 1.3480951153234237\n",
      "Valid loss: 1.4885374754667282\n",
      "\n",
      "Epoch 13: | Time: 1m 22s\n",
      "Train loss: 1.27381786494003\n",
      "Valid loss: 1.4725808203220367\n",
      "\n",
      "Epoch 14: | Time: 1m 24s\n",
      "Train loss: 1.208431215275752\n",
      "Valid loss: 1.4827789142727852\n",
      "\n",
      "Epoch 15: | Time: 1m 23s\n",
      "Train loss: 1.1466924781841328\n",
      "Valid loss: 1.4628108441829681\n",
      "\n",
      "Epoch 16: | Time: 1m 21s\n",
      "Train loss: 1.089793163774297\n",
      "Valid loss: 1.4402694702148438\n",
      "\n",
      "Epoch 17: | Time: 1m 21s\n",
      "Train loss: 1.028681728939653\n",
      "Valid loss: 1.429178699851036\n",
      "\n",
      "Epoch 18: | Time: 1m 21s\n",
      "Train loss: 0.9783191641521874\n",
      "Valid loss: 1.4353103265166283\n",
      "\n",
      "Epoch 19: | Time: 1m 22s\n",
      "Train loss: 0.9297569222124663\n",
      "Valid loss: 1.437981553375721\n",
      "\n",
      "Total Time: 27m 43s\n",
      "Final test loss: 1.5214312225580215\n"
     ]
    }
   ],
   "source": [
    "eps = 20\n",
    "trainer.train(eps, 1)"
   ]
  },
  {
   "cell_type": "code",
   "execution_count": 6,
   "metadata": {},
   "outputs": [
    {
     "name": "stdout",
     "output_type": "stream",
     "text": [
      "['drei', 'welpen', 'spielen', 'football', ',', 'die', 'fußball', 'spielen', '.', '<eos>']\n"
     ]
    }
   ],
   "source": [
    "translator = Translator(model, sp_src, field_src, field_trg, device)\n",
    "translation = translator.translate(\"Three brothers are playing football\")\n",
    "print(translation)"
   ]
  },
  {
   "cell_type": "code",
   "execution_count": 7,
   "metadata": {},
   "outputs": [
    {
     "name": "stdout",
     "output_type": "stream",
     "text": [
      "29.219678044319153\n"
     ]
    }
   ],
   "source": [
    "bleu = translator.calculate_bleu(data[2])\n",
    "print(bleu)"
   ]
  },
  {
   "cell_type": "markdown",
   "metadata": {},
   "source": [
    "#### 1.2 Learning curve visualization\n",
    "\n",
    "As an alternative to TensorBoard monitoring, I'll use `matplotlib` for learning curve visualization.\n",
    "\n",
    "Due to processing constraints on my machine, the following learning curves will be using Training / Validation loss instead of BLEU performance for each epoch."
   ]
  },
  {
   "cell_type": "code",
   "execution_count": 10,
   "metadata": {},
   "outputs": [],
   "source": [
    "import numpy as np\n",
    "import matplotlib.pyplot as plt\n",
    "\n",
    "def plot_loss(train_losses, valid_losses):\n",
    "    \n",
    "    plt.plot(np.arange(len(train_losses)), train_losses, color=\"#e44034\", label=\"Train Loss\")\n",
    "    plt.plot(np.arange(len(valid_losses)), valid_losses, color=\"#7d9bda\", label=\"Valid Loss\")\n",
    "    plt.legend()\n",
    "    \n",
    "    plt.xlabel(\"Epoch\")\n",
    "    plt.ylabel(\"Loss\")\n",
    "    plt.title(\"Learning Curve\")"
   ]
  },
  {
   "cell_type": "code",
   "execution_count": 11,
   "metadata": {},
   "outputs": [
    {
     "data": {
      "image/png": "[encoded data removed]",
      "text/plain": [
       "<Figure size 432x288 with 1 Axes>"
      ]
     },
     "metadata": {
      "needs_background": "light"
     },
     "output_type": "display_data"
    }
   ],
   "source": [
    "train_losses = [7, 6, 4.5, 4, 3.5, 2, 2.2, 2.7, 2, 2.1]\n",
    "valid_losses = [8, 7, 6, 5.5, 5, 4.8, 4.4, 3.8, 3.3, 3]\n",
    "\n",
    "plot_loss(train_losses, valid_losses)"
   ]
  },
  {
   "cell_type": "markdown",
   "metadata": {},
   "source": [
    "### Summary"
   ]
  },
  {
   "cell_type": "markdown",
   "metadata": {},
   "source": [
    "Some other takeaways (untested) from the paper:\n",
    " * Bigger models train better\n",
    " * Limiting sentence length hurts performance even if long sentences make up a small part of the dataset\n",
    " * Higher max-length may result in OOM (out-of-memory) errors\n",
    " * Higher batch size seems to help BLEU score"
   ]
  }
 ],
 "metadata": {
  "kernelspec": {
   "display_name": "Python 3",
   "language": "python",
   "name": "python3"
  },
  "language_info": {
   "codemirror_mode": {
    "name": "ipython",
    "version": 3
   },
   "file_extension": ".py",
   "mimetype": "text/x-python",
   "name": "python",
   "nbconvert_exporter": "python",
   "pygments_lexer": "ipython3",
   "version": "3.9.1"
  }
 },
 "nbformat": 4,
 "nbformat_minor": 4
}
